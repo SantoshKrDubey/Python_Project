{
 "cells": [
  {
   "cell_type": "code",
   "execution_count": 1,
   "id": "c9fd4e5b",
   "metadata": {},
   "outputs": [],
   "source": [
    "import requests\n",
    "from bs4 import BeautifulSoup "
   ]
  },
  {
   "cell_type": "code",
   "execution_count": 2,
   "id": "15313f17",
   "metadata": {},
   "outputs": [],
   "source": []
  },
  {
   "cell_type": "code",
   "execution_count": 3,
   "id": "83c2e008",
   "metadata": {},
   "outputs": [],
   "source": []
  },
  {
   "cell_type": "code",
   "execution_count": 5,
   "id": "e38e44bf",
   "metadata": {
    "scrolled": false
   },
   "outputs": [
    {
     "name": "stdout",
     "output_type": "stream",
     "text": [
      "Enter page number4\n",
      "phones in page are1\n",
      "24\n",
      "phones in page are2\n",
      "24\n",
      "phones in page are3\n",
      "24\n",
      "phones in page are4\n",
      "24\n"
     ]
    }
   ],
   "source": [
    "phn_nm=[]\n",
    "phn_pr=[]\n",
    "pg_num=input(\"Enter page number\")\n",
    "for i in range (1,int(pg_num)+1):\n",
    "    url=\"https://www.flipkart.com/mobiles/mi~brand/pr?sid=tyy%2C4io&otracker=clp_metro_expandable_4_3.metroExpandable.METRO_EXPANDABLE_Shop%2BNow_mobile-phones-store_OUJ0NDXWZCCJ_wp3&fm=neo%2Fmerchandising&iid=M_50272f46-6ec1-44d7-aed8-14a319e0ae58_3.OUJ0NDXWZCCJ&ppt=hp&ppn=homepage&ssid=c8yz7bm3cg0000001631269547943&page=\"+str(i)\n",
    "    req=requests.get(url)\n",
    "    content=BeautifulSoup(req.content,\"html.parser\")\n",
    "    name=content.find_all('div', {\"class\":\"_4rR01T\"})\n",
    "    price=content.find_all('div', {\"class\":\"_30jeq3 _1_WHN1\"})\n",
    "    print(\"phones in page are\" + str(i))\n",
    "    print(len(name))\n",
    "    \n",
    "    for i in name:\n",
    "        phn_nm.append(i.text)\n",
    "    for i in price:\n",
    "        phn_pr.append(i.text)\n",
    "    "
   ]
  },
  {
   "cell_type": "code",
   "execution_count": 6,
   "id": "8ec33b7c",
   "metadata": {},
   "outputs": [
    {
     "name": "stdout",
     "output_type": "stream",
     "text": [
      "                          phone name phone price\n",
      "0     Mi 11 Lite (Jazz Blue, 128 GB)     ₹23,999\n",
      "1     Redmi 9A (Nature Green, 32 GB)      ₹7,578\n",
      "2          Redmi 9A (SeaBlue, 32 GB)      ₹7,525\n",
      "3   Redmi 9A (Midnight Black, 32 GB)      ₹7,578\n",
      "4          Redmi 9 (Sky Blue, 64 GB)     ₹10,066\n",
      "..                               ...         ...\n",
      "91      Redmi 8A (Sunset Red, 32 GB)      ₹7,999\n",
      "92   Redmi 8A Dual (Sea Blue, 32 GB)      ₹8,299\n",
      "93            Redmi 6A (Blue, 16 GB)      ₹5,990\n",
      "94     Redmi Note 5 Pro (Red, 64 GB)     ₹14,999\n",
      "95        Redmi Note 5 (Blue, 32 GB)     ₹10,999\n",
      "\n",
      "[96 rows x 2 columns]\n"
     ]
    }
   ],
   "source": [
    "import pandas as pd\n",
    "data={\"phone name\": phn_nm, \"phone price\": phn_pr}\n",
    "df=pd.DataFrame(data)\n",
    "print (df)"
   ]
  },
  {
   "cell_type": "code",
   "execution_count": null,
   "id": "e2ff49c5",
   "metadata": {},
   "outputs": [],
   "source": []
  }
 ],
 "metadata": {
  "kernelspec": {
   "display_name": "Python 3.9.7 64-bit",
   "language": "python",
   "name": "python3"
  },
  "language_info": {
   "codemirror_mode": {
    "name": "ipython",
    "version": 3
   },
   "file_extension": ".py",
   "mimetype": "text/x-python",
   "name": "python",
   "nbconvert_exporter": "python",
   "pygments_lexer": "ipython3",
   "version": "3.9.7"
  },
  "vscode": {
   "interpreter": {
    "hash": "c07aba77f3739a9e37d0d347272a37fdc013e61d4a1e4d2b6d8f5619d586a6f9"
   }
  }
 },
 "nbformat": 4,
 "nbformat_minor": 5
}
